{
 "cells": [
  {
   "cell_type": "code",
   "execution_count": 1,
   "metadata": {},
   "outputs": [],
   "source": [
    "import time\n",
    "from selenium import webdriver\n",
    "from selenium.webdriver.chrome.options import Options\n",
    "import os"
   ]
  },
  {
   "cell_type": "code",
   "execution_count": 2,
   "metadata": {},
   "outputs": [],
   "source": [
    "option = Options()\n",
    "option.add_argument('--headless')\n",
    "driver_path = '/usr/local/bin/chromedriver'"
   ]
  },
  {
   "cell_type": "code",
   "execution_count": 6,
   "metadata": {},
   "outputs": [
    {
     "output_type": "stream",
     "name": "stdout",
     "text": "https://re-fort.net/KykzkBlogArchive/#/blog/yui.imaizumi/201512\t675line\nhttps://re-fort.net/KykzkBlogArchive/#/blog/yui.imaizumi/201612\t4417line\nhttps://re-fort.net/KykzkBlogArchive/#/blog/yui.imaizumi/201712\t2909line\nhttps://re-fort.net/KykzkBlogArchive/#/blog/yui.imaizumi/201812\t2157line\nhttps://re-fort.net/KykzkBlogArchive/#/blog/yui.imaizumi/201912\t0line\nhttps://re-fort.net/KykzkBlogArchive/#/blog/yui.imaizumi/202012\t0line\nhttps://re-fort.net/KykzkBlogArchive/#/blog/manaka.shida/201512\t662line\nhttps://re-fort.net/KykzkBlogArchive/#/blog/manaka.shida/201612\t2007line\nhttps://re-fort.net/KykzkBlogArchive/#/blog/manaka.shida/201712\t589line\nhttps://re-fort.net/KykzkBlogArchive/#/blog/manaka.shida/201812\t80line\nhttps://re-fort.net/KykzkBlogArchive/#/blog/manaka.shida/201912\t0line\nhttps://re-fort.net/KykzkBlogArchive/#/blog/manaka.shida/202012\t0line\nhttps://re-fort.net/KykzkBlogArchive/#/blog/nanami.yonetani/201512\t842line\nhttps://re-fort.net/KykzkBlogArchive/#/blog/nanami.yonetani/201612\t4068line\nhttps://re-fort.net/KykzkBlogArchive/#/blog/nanami.yonetani/201712\t1782line\nhttps://re-fort.net/KykzkBlogArchive/#/blog/nanami.yonetani/201812\t282line\nhttps://re-fort.net/KykzkBlogArchive/#/blog/nanami.yonetani/201912\t0line\nhttps://re-fort.net/KykzkBlogArchive/#/blog/nanami.yonetani/202012\t0line\nhttps://re-fort.net/KykzkBlogArchive/#/blog/neru.nagahama/201512\t498line\nhttps://re-fort.net/KykzkBlogArchive/#/blog/neru.nagahama/201612\t4079line\nhttps://re-fort.net/KykzkBlogArchive/#/blog/neru.nagahama/201712\t2830line\nhttps://re-fort.net/KykzkBlogArchive/#/blog/neru.nagahama/201812\t2214line\nhttps://re-fort.net/KykzkBlogArchive/#/blog/neru.nagahama/201912\t1312line\nhttps://re-fort.net/KykzkBlogArchive/#/blog/neru.nagahama/202012\t0line\nhttps://re-fort.net/KykzkBlogArchive/#/blog/nana.oda/201512\t1180line\nhttps://re-fort.net/KykzkBlogArchive/#/blog/nana.oda/201612\t7393line\nhttps://re-fort.net/KykzkBlogArchive/#/blog/nana.oda/201712\t4091line\nhttps://re-fort.net/KykzkBlogArchive/#/blog/nana.oda/201812\t2415line\nhttps://re-fort.net/KykzkBlogArchive/#/blog/nana.oda/201912\t1025line\nhttps://re-fort.net/KykzkBlogArchive/#/blog/nana.oda/202012\t52line\nhttps://re-fort.net/KykzkBlogArchive/#/blog/miyu.suzumoto/201512\t503line\nhttps://re-fort.net/KykzkBlogArchive/#/blog/miyu.suzumoto/201612\t2340line\nhttps://re-fort.net/KykzkBlogArchive/#/blog/miyu.suzumoto/201712\t708line\nhttps://re-fort.net/KykzkBlogArchive/#/blog/miyu.suzumoto/201812\t39line\nhttps://re-fort.net/KykzkBlogArchive/#/blog/miyu.suzumoto/201912\t20line\nhttps://re-fort.net/KykzkBlogArchive/#/blog/miyu.suzumoto/202012\t25line\nhttps://re-fort.net/KykzkBlogArchive/#/blog/yurina.hirate/201512\t504line\nhttps://re-fort.net/KykzkBlogArchive/#/blog/yurina.hirate/201612\t2375line\nhttps://re-fort.net/KykzkBlogArchive/#/blog/yurina.hirate/201712\t141line\nhttps://re-fort.net/KykzkBlogArchive/#/blog/yurina.hirate/201812\t0line\nhttps://re-fort.net/KykzkBlogArchive/#/blog/yurina.hirate/201912\t0line\nhttps://re-fort.net/KykzkBlogArchive/#/blog/yurina.hirate/202012\t0line\n"
    }
   ],
   "source": [
    "dir_path = './scraping'\n",
    "if not os.path.isdir(dir_path):\n",
    "    os.mkdir(dir_path)\n",
    "file_name_list = ['yui.imaizumi','manaka.shida','nanami.yonetani','neru.nagahama','nana.oda','miyu.suzumoto','yurina.hirate']\n",
    "\n",
    "for name in file_name_list:\n",
    "    with open('{}/{}.txt'.format(dir_path,name),'w') as f:\n",
    "        for year in range(2015,2021):\n",
    "            cnt = 0\n",
    "            for month in range(1,13):\n",
    "                target_url = \"https://re-fort.net/KykzkBlogArchive/#/blog/{name}/{year}{month:0>2}\".format(name=name,year=year,month=month)\n",
    "                driver = webdriver.Chrome(driver_path,options=option)\n",
    "                driver.get(target_url)\n",
    "                time.sleep(3)\n",
    "\n",
    "                for article in driver.find_elements_by_class_name(\"box-article\"):\n",
    "                    text = article.text\n",
    "                    text = text.split('\\n')\n",
    "                    for line in filter(''.__ne__,text):\n",
    "                        if line != '':\n",
    "                            cnt += 1\n",
    "                            line = line.strip()\n",
    "                            f.write('{}\\n'.format(line))\n",
    "                driver.close()\n",
    "                driver.quit()\n",
    "            print('{}\\t{}line'.format(target_url,cnt))\n"
   ]
  },
  {
   "cell_type": "code",
   "execution_count": 7,
   "metadata": {},
   "outputs": [
    {
     "output_type": "stream",
     "name": "stdout",
     "text": "3338 ./scraping/manaka.shida.txt\n3020 ./scraping/yurina.hirate.txt\n3635 ./scraping/miyu.suzumoto.txt\n6974 ./scraping/nanami.yonetani.txt\n10158 ./scraping/yui.imaizumi.txt\n16156 ./scraping/nana.oda.txt\n10933 ./scraping/neru.nagahama.txt\n"
    }
   ],
   "source": [
    "import glob\n",
    "\n",
    "for f in glob.glob('{}/*.txt'.format(dir_path)):\n",
    "    !wc -l $f"
   ]
  }
 ],
 "metadata": {
  "language_info": {
   "codemirror_mode": {
    "name": "ipython",
    "version": 3
   },
   "file_extension": ".py",
   "mimetype": "text/x-python",
   "name": "python",
   "nbconvert_exporter": "python",
   "pygments_lexer": "ipython3",
   "version": "3.7.6-final"
  },
  "orig_nbformat": 2,
  "kernelspec": {
   "name": "python37664bitf2b9b627aa28481db222efb283794abd",
   "display_name": "Python 3.7.6 64-bit"
  }
 },
 "nbformat": 4,
 "nbformat_minor": 2
}